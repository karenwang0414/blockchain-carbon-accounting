{
  "nbformat": 4,
  "nbformat_minor": 0,
  "metadata": {
    "colab": {
      "provenance": [],
      "include_colab_link": true
    },
    "kernelspec": {
      "name": "python3",
      "display_name": "Python 3"
    },
    "language_info": {
      "name": "python"
    }
  },
  "cells": [
    {
      "cell_type": "markdown",
      "metadata": {
        "id": "view-in-github",
        "colab_type": "text"
      },
      "source": [
        "<a href=\"https://colab.research.google.com/github/karenwang0414/blockchain-carbon-accounting/blob/main/ChatClimate_Prompting_the_Blackbox.ipynb\" target=\"_parent\"><img src=\"https://colab.research.google.com/assets/colab-badge.svg\" alt=\"Open In Colab\"/></a>"
      ]
    },
    {
      "cell_type": "markdown",
      "source": [
        "**IMPORTANT NOTE**: To use this notebook, please register at OpenAI and create an own API key. These querries will cost something like 1 cent."
      ],
      "metadata": {
        "id": "2fWZPvizbrNE"
      }
    },
    {
      "cell_type": "markdown",
      "source": [
        "# Prompting the Blackbox\n",
        "\n",
        "Large Language Models (LLMs) represent one of the most remarkable advancements in the last years. However, they suffer from two major problems: hallucination and outdated information. In this notebook, we will gradually address these problems in a hands-on way."
      ],
      "metadata": {
        "id": "-MrxR82-J7Um"
      }
    },
    {
      "cell_type": "markdown",
      "source": [
        "## Background code\n",
        "\n",
        "Just run this. If you want to retry this after the workshop again, you will need to create your own OPpenAI account and API key."
      ],
      "metadata": {
        "id": "Or3_WjkqO4Do"
      }
    },
    {
      "cell_type": "code",
      "source": [
        "!pip install openai"
      ],
      "metadata": {
        "id": "2IksVQU3Sy0W",
        "colab": {
          "base_uri": "https://localhost:8080/"
        },
        "outputId": "3b5aff2e-f546-4b9d-c188-336b9f8e5b30"
      },
      "execution_count": null,
      "outputs": [
        {
          "output_type": "stream",
          "name": "stdout",
          "text": [
            "Requirement already satisfied: openai in /usr/local/lib/python3.10/dist-packages (0.27.8)\n",
            "Requirement already satisfied: requests>=2.20 in /usr/local/lib/python3.10/dist-packages (from openai) (2.27.1)\n",
            "Requirement already satisfied: tqdm in /usr/local/lib/python3.10/dist-packages (from openai) (4.65.0)\n",
            "Requirement already satisfied: aiohttp in /usr/local/lib/python3.10/dist-packages (from openai) (3.8.4)\n",
            "Requirement already satisfied: urllib3<1.27,>=1.21.1 in /usr/local/lib/python3.10/dist-packages (from requests>=2.20->openai) (1.26.16)\n",
            "Requirement already satisfied: certifi>=2017.4.17 in /usr/local/lib/python3.10/dist-packages (from requests>=2.20->openai) (2023.5.7)\n",
            "Requirement already satisfied: charset-normalizer~=2.0.0 in /usr/local/lib/python3.10/dist-packages (from requests>=2.20->openai) (2.0.12)\n",
            "Requirement already satisfied: idna<4,>=2.5 in /usr/local/lib/python3.10/dist-packages (from requests>=2.20->openai) (3.4)\n",
            "Requirement already satisfied: attrs>=17.3.0 in /usr/local/lib/python3.10/dist-packages (from aiohttp->openai) (23.1.0)\n",
            "Requirement already satisfied: multidict<7.0,>=4.5 in /usr/local/lib/python3.10/dist-packages (from aiohttp->openai) (6.0.4)\n",
            "Requirement already satisfied: async-timeout<5.0,>=4.0.0a3 in /usr/local/lib/python3.10/dist-packages (from aiohttp->openai) (4.0.2)\n",
            "Requirement already satisfied: yarl<2.0,>=1.0 in /usr/local/lib/python3.10/dist-packages (from aiohttp->openai) (1.9.2)\n",
            "Requirement already satisfied: frozenlist>=1.1.1 in /usr/local/lib/python3.10/dist-packages (from aiohttp->openai) (1.3.3)\n",
            "Requirement already satisfied: aiosignal>=1.1.2 in /usr/local/lib/python3.10/dist-packages (from aiohttp->openai) (1.3.1)\n"
          ]
        }
      ]
    },
    {
      "cell_type": "code",
      "source": [
        "import openai\n",
        "from IPython.core.display import display, HTML\n",
        "\n",
        "# IMPORTANT: This key will be deleted after the workshop. If you want to rerun this script,\n",
        "# you need to create an own OpenAI-API key.\n",
        "openai.api_key = \"INSERT YOUR API KEY HERE\"\n",
        "\n",
        "def create_answer(text, return_question=False):\n",
        "  completion = openai.ChatCompletion.create(\n",
        "      model=\"gpt-3.5-turbo\",\n",
        "      messages=[{\"role\": \"user\", \"content\": text}],\n",
        "      temperature=0,\n",
        "      n=1,\n",
        "      #presence_penalty = 0.5,\n",
        "      #frequency_penalty = 0.5\n",
        "  )\n",
        "  answer = completion.choices[0].message.content\n",
        "  answer_html = f\"<p>{answer}</p>\".replace(\"\\n\", \"</p><p>\")\n",
        "  if return_question:\n",
        "    in_html = f\"\"\"\n",
        "            <h3>Question:</h3>\n",
        "            <p>{text}</p>\n",
        "            <h3>Answer:</h3>\n",
        "            {answer_html}\n",
        "            \"\"\"\n",
        "  else:\n",
        "    in_html = f\"\"\"\n",
        "            <h3>Answer:</h3>\n",
        "            {answer_html}\n",
        "            \"\"\"\n",
        "  display(HTML(in_html))"
      ],
      "metadata": {
        "id": "8Zy05yDTO8gh"
      },
      "execution_count": null,
      "outputs": []
    },
    {
      "cell_type": "markdown",
      "source": [
        "## Prompt Engineering 101\n",
        "\n",
        "First, we start with a brief introduction to Prompt Engineering. For effective prompting, we need to understand the following basic Python concept."
      ],
      "metadata": {
        "id": "k1h1BXFNK5yv"
      }
    },
    {
      "cell_type": "code",
      "source": [
        "# Quick python introduction to formatting strings:\n",
        "# A string is essentially a text block.\n",
        "text = \"Hello, everyone. Great to have you here.\"\n",
        "print(text)"
      ],
      "metadata": {
        "id": "T8Q8n_KWZW3Y",
        "colab": {
          "base_uri": "https://localhost:8080/"
        },
        "outputId": "6ccc0622-0739-4574-987b-ce93dad75dd8"
      },
      "execution_count": null,
      "outputs": [
        {
          "output_type": "stream",
          "name": "stdout",
          "text": [
            "Hello, everyone. Great to have you here.\n"
          ]
        }
      ]
    },
    {
      "cell_type": "code",
      "source": [
        "# We can insert other strings into strings using {} and f\"\". For example:\n",
        "inserted_string = \"Great to have you here.\"\n",
        "text_2 = f\"Hello, everyone. {inserted_string}\"\n",
        "print(text_2)"
      ],
      "metadata": {
        "id": "PjxikEQMul3n",
        "colab": {
          "base_uri": "https://localhost:8080/"
        },
        "outputId": "0273ad62-f065-4fb5-eba6-95c978276947"
      },
      "execution_count": null,
      "outputs": [
        {
          "output_type": "stream",
          "name": "stdout",
          "text": [
            "Hello, everyone. Great to have you here.\n"
          ]
        }
      ]
    },
    {
      "cell_type": "markdown",
      "source": [
        "A prompt is essentially a text that is sent to an LLM. Thus, Prompt Engineering is the art of designing that text to get the desired output. In here, we will cover a non-exhaustive list of ways to improve prompts and to give you a feeling for Prompt Engineering. We will use the following examples to illustrate the principles:"
      ],
      "metadata": {
        "id": "CqOv_GJGdNHe"
      }
    },
    {
      "cell_type": "code",
      "source": [
        "# reviews for a jacket\n",
        "reviews = \"\"\"\n",
        "          1 Star\n",
        "          This is an over engineered waste of money\n",
        "\n",
        "          Nobody is truly going to be wearing this unless your in the frozen tundra….\n",
        "          Zero mobility way to large in length… Absolute waste…\n",
        "\n",
        "          ---\n",
        "          5 Stars\n",
        "          Incredibly warm!\n",
        "\n",
        "          Incredibly warm! You won’t go wrong with this jacket!\n",
        "\n",
        "          ---\n",
        "          5 Stars\n",
        "          So warm!\n",
        "\n",
        "          I am a 5”4 woman and got this men’s jacket as a gift. I moved from sunny Los Ángeles\n",
        "          to Detroit Michigan during the storm and this jacket saved me. I get cold easily and\n",
        "          I was so warm while walking in the snow that I had to unzip a bit because I was getting\n",
        "          too warm. Love that this jacket has so many pockets, I don’t even need to bring a purse\n",
        "          cuz this jacket holds it all. The details they put into this jacket is amazing.\n",
        "          \"\"\""
      ],
      "metadata": {
        "id": "3kqeudqpfImB"
      },
      "execution_count": null,
      "outputs": []
    },
    {
      "cell_type": "markdown",
      "source": [
        "***1. Write clear and specific instructions***\n",
        "\n",
        "The effort you put in equals to the results you get out."
      ],
      "metadata": {
        "id": "aexbzpfoglYx"
      }
    },
    {
      "cell_type": "markdown",
      "source": [
        "***2. Structure the text: Use Delimiters***\n",
        "\n",
        "For the model to understand content correctly, it is extremely helpful to use delimiters to separate texts from each other (see for instance \"---\" above)."
      ],
      "metadata": {
        "id": "v522bTgbe7hN"
      }
    },
    {
      "cell_type": "code",
      "source": [
        "# examplary task\n",
        "# clearly explain to the model where which task can be found\n",
        "prompt = f\"\"\" You will be provided with a list of product reviews delimited by <>.\n",
        "              Analyze each review and provide an overview of customers satisfaction.\n",
        "\n",
        "            <{reviews}>\n",
        "          \"\"\"\n",
        "create_answer(prompt)"
      ],
      "metadata": {
        "id": "mw9X5f2PdMY6",
        "colab": {
          "base_uri": "https://localhost:8080/",
          "height": 188
        },
        "outputId": "f0a2a4f1-af5a-4187-8eaf-a38d7d3e6b48"
      },
      "execution_count": null,
      "outputs": [
        {
          "output_type": "display_data",
          "data": {
            "text/plain": [
              "<IPython.core.display.HTML object>"
            ],
            "text/html": [
              "\n",
              "            <h3>Answer:</h3>\n",
              "            <p>Based on the provided product reviews, the overall customer satisfaction seems to be mixed. </p><p></p><p>The first review, which is rated 1 star, expresses dissatisfaction with the product, stating that it is an over-engineered waste of money. The reviewer mentions that the jacket is too large in length and restricts mobility, making it an absolute waste.</p><p></p><p>However, the following two reviews, both rated 5 stars, express high satisfaction with the product. The reviewers emphasize the jacket's warmth, with one stating that it is incredibly warm and the other mentioning that it saved them during a move to a cold location. The second reviewer, a woman, also appreciates the jacket's pockets and the attention to detail in its design.</p><p></p><p>Overall, while there is one negative review, the majority of the reviews are positive, highlighting the jacket's warmth and functionality.</p>\n",
              "            "
            ]
          },
          "metadata": {}
        }
      ]
    },
    {
      "cell_type": "markdown",
      "source": [
        "***3. Iteratively refine the task***\n",
        "\n",
        "Prompt Engineering is essentially a process of iteratively refining the task for your need."
      ],
      "metadata": {
        "id": "uZOF7mUjk03k"
      }
    },
    {
      "cell_type": "code",
      "source": [
        "# example: get clearer structure in the output with adding a listing of  positive and negative aspects\n",
        "prompt = f\"\"\" You will be provided with a list of product reviews delimited by <>.\n",
        "              Analyze each review and provide an overview of customers satisfaction,\n",
        "              creating two lists of positive and negative aspects reported by customers.\n",
        "\n",
        "            <{reviews}>\n",
        "          \"\"\"\n",
        "create_answer(prompt)"
      ],
      "metadata": {
        "id": "eEkWUhxiktSx",
        "colab": {
          "base_uri": "https://localhost:8080/",
          "height": 270
        },
        "outputId": "5695af7e-e740-4a0a-b37e-40025c0f2b4e"
      },
      "execution_count": null,
      "outputs": [
        {
          "output_type": "display_data",
          "data": {
            "text/plain": [
              "<IPython.core.display.HTML object>"
            ],
            "text/html": [
              "\n",
              "            <h3>Answer:</h3>\n",
              "            <p>Positive aspects reported by customers:</p><p>- Incredibly warm</p><p>- Jacket saved the customer from the cold weather</p><p>- Jacket has many pockets, eliminating the need for a purse</p><p>- Detailed design of the jacket is impressive</p><p></p><p>Negative aspects reported by customers:</p><p>- Over engineered and a waste of money</p><p>- Not suitable for everyday wear, only for extremely cold conditions</p><p>- Lack of mobility due to its length</p>\n",
              "            "
            ]
          },
          "metadata": {}
        }
      ]
    },
    {
      "cell_type": "markdown",
      "source": [
        "***4. Convert the output into a structured format***\n",
        "\n",
        "Depending on the task and evaluation strategy, different formats might be helpful."
      ],
      "metadata": {
        "id": "IzCA8yvFmWOj"
      }
    },
    {
      "cell_type": "code",
      "execution_count": null,
      "metadata": {
        "id": "sWbZKIZVI0JX",
        "colab": {
          "base_uri": "https://localhost:8080/",
          "height": 387
        },
        "outputId": "8dc83bf9-964a-447c-d44d-dc761d056242"
      },
      "outputs": [
        {
          "output_type": "display_data",
          "data": {
            "text/plain": [
              "<IPython.core.display.HTML object>"
            ],
            "text/html": [
              "\n",
              "            <h3>Answer:</h3>\n",
              "            <p>{</p><p>  \"positive_aspects\": [</p><p>    \"Incredibly warm\",</p><p>    \"So warm\",</p><p>    \"Many pockets\",</p><p>    \"Amazing details\"</p><p>  ],</p><p>  \"negative_aspects\": [</p><p>    \"Over engineered\",</p><p>    \"Waste of money\",</p><p>    \"Zero mobility\",</p><p>    \"Too large in length\"</p><p>  ]</p><p>}</p>\n",
              "            "
            ]
          },
          "metadata": {}
        }
      ],
      "source": [
        "# example: use the JSON format\n",
        "prompt = f\"\"\" You will be provided with a list of product reviews delimited by <>.\n",
        "              Analyze each review and provide an overview of customers satisfaction,\n",
        "              creating two lists of positive and negative aspects reported by customers.\n",
        "\n",
        "              Provide them in JSON format with the following keys:\n",
        "              positive_aspects, negative_aspects.\n",
        "\n",
        "              <{reviews}>\n",
        "          \"\"\"\n",
        "create_answer(prompt)"
      ]
    },
    {
      "cell_type": "markdown",
      "source": [
        "***5. Use vast model capabilities***\n",
        "\n",
        "Apart from summarization or question answering, LLMs typically possess vast capabilities like reflecting on the output or providing helpful feedback."
      ],
      "metadata": {
        "id": "iezs6AgMn6OC"
      }
    },
    {
      "cell_type": "code",
      "source": [
        "# example: use model to assess the output\n",
        "prompt = f\"\"\" You will be provided with a list of product reviews delimited by <>.\n",
        "              Analyze each review and provide an overview of customers satisfaction,\n",
        "              creating two lists of positive and negative aspects reported by customers.\n",
        "\n",
        "              Critically reflect on improvement potentials.\n",
        "\n",
        "            <{reviews}>\n",
        "          \"\"\"\n",
        "create_answer(prompt)"
      ],
      "metadata": {
        "id": "AdVVjELXnoVh",
        "colab": {
          "base_uri": "https://localhost:8080/",
          "height": 363
        },
        "outputId": "4d5939ad-9a1d-443a-9b68-0c9dc5f05ce9"
      },
      "execution_count": null,
      "outputs": [
        {
          "output_type": "display_data",
          "data": {
            "text/plain": [
              "<IPython.core.display.HTML object>"
            ],
            "text/html": [
              "\n",
              "            <h3>Answer:</h3>\n",
              "            <p>Positive aspects reported by customers:</p><p>- Incredibly warm</p><p>- Many pockets</p><p>- Detailed design</p><p></p><p>Negative aspects reported by customers:</p><p>- Over engineered</p><p>- Zero mobility</p><p>- Too large in length</p><p></p><p>Improvement potentials:</p><p>- Improve mobility and fit of the jacket to ensure better comfort for customers.</p><p>- Consider offering different sizes or options for customers with different body types.</p><p>- Provide more information about the jacket's intended use and suitability for different climates to avoid customer dissatisfaction.</p><p>- Address any concerns about the jacket being over engineered and focus on functionality and practicality.</p>\n",
              "            "
            ]
          },
          "metadata": {}
        }
      ]
    },
    {
      "cell_type": "markdown",
      "source": [
        "***SOURCES***\n",
        "\n",
        "Of course, there is much more depth to Prompt Engineering. The following sources could help to refine knowledge further:\n",
        "- Free course on Prompt Engineering: https://learn.deeplearning.ai/chatgpt-prompt-eng/\n",
        "- Article on Prompt Engineering 101: https://hackernoon.com/prompt-engineering-101-i-unveiling-principles-and-techniques-of-effective-prompt-crafting"
      ],
      "metadata": {
        "id": "a0L0u7Jsoiq6"
      }
    },
    {
      "cell_type": "markdown",
      "source": [
        "# Base answers on reliable sources\n",
        "\n",
        "To fight model hallucination and outdated data, we now use our learnings about prompt engineering."
      ],
      "metadata": {
        "id": "PV9zo3IaXqEk"
      }
    },
    {
      "cell_type": "markdown",
      "source": [
        "We start with a very straightforward question:"
      ],
      "metadata": {
        "id": "XLCIEWg1qZn3"
      }
    },
    {
      "cell_type": "code",
      "source": [
        "question = f\"When and how does Germany want to achieve net zero?\"\n",
        "create_answer(question)"
      ],
      "metadata": {
        "id": "aG8zaHS5YEmO",
        "colab": {
          "base_uri": "https://localhost:8080/",
          "height": 246
        },
        "outputId": "5122e937-28f3-422f-c3cb-224e462f2421"
      },
      "execution_count": null,
      "outputs": [
        {
          "output_type": "display_data",
          "data": {
            "text/plain": [
              "<IPython.core.display.HTML object>"
            ],
            "text/html": [
              "\n",
              "            <h3>Answer:</h3>\n",
              "            <p>Germany has set a target to achieve net-zero greenhouse gas emissions by 2045. This goal was announced in 2019 as part of the Climate Protection Act. However, there have been discussions within the country to bring forward this target to 2040 or even earlier.</p><p></p><p>To achieve net-zero emissions, Germany plans to transition to a carbon-neutral economy by reducing its reliance on fossil fuels and increasing the share of renewable energy sources. The country aims to phase out coal-fired power plants by 2038 at the latest and increase the share of renewable energy in its electricity mix to 65% by 2030.</p><p></p><p>Germany also plans to promote energy efficiency measures, electrify transportation, and invest in sustainable technologies. The government has introduced various policies and initiatives to support this transition, such as the expansion of renewable energy sources, the promotion of electric vehicles, and the implementation of energy-saving measures in buildings.</p><p></p><p>Additionally, Germany is actively involved in international climate negotiations and supports the implementation of the Paris Agreement. The country aims to collaborate with other nations to achieve global climate goals and reduce greenhouse gas emissions worldwide.</p><p></p><p>It is important to note that achieving net-zero emissions is a complex and challenging task, and Germany's plans may evolve over time as new technologies and policies emerge.</p>\n",
              "            "
            ]
          },
          "metadata": {}
        }
      ]
    },
    {
      "cell_type": "markdown",
      "source": [
        "As seen, the model has some embedded knowledge. However, we cannot rely on where the model has the information from and if the information is up-to-date."
      ],
      "metadata": {
        "id": "tr-9v8ijqf0Y"
      }
    },
    {
      "cell_type": "markdown",
      "source": [
        "***Task:***\n",
        "\n",
        "Read the following excerpt (*text*) and use our learnings about prompt engineering to give a short and clear answer to the question above."
      ],
      "metadata": {
        "id": "Qu5dlEdSr0Tr"
      }
    },
    {
      "cell_type": "code",
      "source": [
        "text = \"\"\"\n",
        "        Paragprah 1: The new German government, in power since December 2021, significantly accelerates domestic climate\n",
        "        policy implementation. If all measures planned in the coalition contract were implemented, Germany would get close\n",
        "        to its domestic emissions target of a 65% reduction below 1990 levels in 2030. New renewable energy expansion\n",
        "        measures and the anticipated coal phase-out by 2030 may lead to Germany overachieving the sectoral target for\n",
        "        the electricity sector, but other sectors lag behind.\n",
        "\n",
        "        ---\n",
        "\n",
        "        Parapgraph 2: But even more measures would be necessary to overachieve the 65% target for 2030, as the government\n",
        "        has promised, to make a 1.5°C compatible contribution. The government now needs to ensure that in all sectors the\n",
        "        planned and new measures are effectively implemented, to overachieve the 2030 targets.\n",
        "\n",
        "        ---\n",
        "\n",
        "        SOURCE: https://climateactiontracker.org/countries/germany/\n",
        "        \"\"\""
      ],
      "metadata": {
        "id": "8kB4jL-luZTF"
      },
      "execution_count": null,
      "outputs": []
    },
    {
      "cell_type": "code",
      "source": [
        "question = f\"\"\"\n",
        "            When and how does Germany want to achieve net zero?\n",
        "\n",
        "            \"\"\"\n",
        "\n",
        "create_answer(question)\n",
        "\n",
        "# suggestions:\n",
        "# ask the model to shorten the output\n",
        "# advise the model to use the <text>\n",
        "# ask the model to give sources for its statements"
      ],
      "metadata": {
        "id": "AqZgcWEVYJ8a"
      },
      "execution_count": null,
      "outputs": []
    },
    {
      "cell_type": "markdown",
      "source": [
        "Practical problems for implementation:\n",
        "- Which source is \"the most valid\"?\n",
        "- How much information should be assessed?\n",
        "- How to store and retrieve the right bits of information?\n",
        "\n",
        "Our research team created a tool called **ChatClimate to address these problems**. Feel free to try this question under https://www.chatclimate.ai/ or read the paper https://papers.ssrn.com/sol3/papers.cfm?abstract_id=4414628."
      ],
      "metadata": {
        "id": "JmjQmTW5YK_t"
      }
    },
    {
      "cell_type": "markdown",
      "source": [
        "## Assess documents with expert guidelines\n",
        "\n",
        "Another step in increasing transparency and validity of the output is matching it with third-party guidelines. In this use case, we take TCFD questions and guidelines to assess sustainability reports."
      ],
      "metadata": {
        "id": "ud2vZM_Lwahm"
      }
    },
    {
      "cell_type": "markdown",
      "source": [
        "***Task:***\n",
        "\n",
        "Write a prompt that first evaluates the TCFD question 1 (*tcfd_question_1*) with the given texts extracted from the sustainability report (*report*) and then another prompt that takes the answer and compares it with the desired output dimensions (*tcfd_assessment_1*) given in the TCFD framework."
      ],
      "metadata": {
        "id": "Cns-2CehMVGG"
      }
    },
    {
      "cell_type": "code",
      "source": [
        "# excerpt from the Volkswagen Group Sustainability Report 2022\n",
        "report = \"\"\"\n",
        "            PAGE 37: The Volkswagen Group has established Group-wide sustainability management.\n",
        "            The related structures, processes and responsibilities are codified in a specific Group policy.\n",
        "            The highest decision-making body for sustainability-related topics is the Group Board of Management.\n",
        "            The Chairman of the Group Board of Management has cross-functional overall responsibility for sustainability.\n",
        "            The Group Steering Committee for Sustainability bears the main responsibility for climate protection along the\n",
        "            value chain as the highest body below the Board of Management. Product and portfolio topics are managed by the\n",
        "            Group Steering Committee for Fleet Compliance.\n",
        "\n",
        "            ---\n",
        "\n",
        "            PAGE 38: The Group identifies both risks resulting from climate change (physical risks) and risks and opportunities\n",
        "            due to the shift toward a decarbonized economy (transitional risks and opportunities), which are addressed by the\n",
        "            internal control system’s master control catalogs and the risk management system’s risk clusters.\n",
        "\n",
        "            ---\n",
        "\n",
        "            SOURCE: VOLKSWAGEN Group Sustainability Report 2022\n",
        "         \"\"\"\n",
        "# question by the TCFD\n",
        "tcfd_question_1 = \"How does the company's board oversee climate-related risks and opportunities?\"\n",
        "# guideline for evaluation the question\n",
        "tcfd_assessment_1 = \"\"\"In describing the board's oversight of climate-related issues, organizations should consider including a discussion of the following:\n",
        "                    1. processes and frequency by which the board and/or board committees (e.g., audit, risk, or other committees) are informed about climate-related issues;\n",
        "                    2. whether the board and/or board committees consider climate-related issues when reviewing and guiding strategy, major plans of action, risk management policies, annual budgets, and business plans as well as setting the organization’s performance objectives, monitoring implementation and performance, and overseeing major capital expenditures, acquisitions, and divestitures; and\n",
        "                    3. how the board monitors and oversees progress against goals and targets for addressing climate-related issues.\n",
        "                    \"\"\""
      ],
      "metadata": {
        "id": "JtCBycvOIVId"
      },
      "execution_count": null,
      "outputs": []
    },
    {
      "cell_type": "code",
      "source": [
        "# develop a question prompt\n",
        "tcfd_question_to_report = f\"\"\"\n",
        "\n",
        "                           \"\"\"\n",
        "\n",
        "create_answer(tcfd_question_to_report)"
      ],
      "metadata": {
        "id": "a6ag7YhOOLbU"
      },
      "execution_count": null,
      "outputs": []
    },
    {
      "cell_type": "code",
      "source": [
        "# develop a assessment prompt\n",
        "tcfd_answer_assessment = f\"\"\"\n",
        "\n",
        "                          \"\"\"\n",
        "\n",
        "create_answer(tcfd_answer_assessment)"
      ],
      "metadata": {
        "id": "W_NbpXacObmJ"
      },
      "execution_count": null,
      "outputs": []
    },
    {
      "cell_type": "markdown",
      "source": [
        "Some practical problems for implementation:\n",
        "- How to make sure a critical assessment of self-report information?\n",
        "- What is the right trade-off between preciseness of the answer and answer length?\n",
        "- How to assess whether all given sources are valid?\n",
        "\n",
        "For more insights on this topic, feel free to read the article on **ChatReport, a tool that assesses sustainability reports with TCFD guidelines** https://papers.ssrn.com/sol3/papers.cfm?abstract_id=4476733."
      ],
      "metadata": {
        "id": "hV5zSRmkKcCh"
      }
    }
  ]
}